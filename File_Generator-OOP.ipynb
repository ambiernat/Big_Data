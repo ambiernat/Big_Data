{
 "cells": [
  {
   "cell_type": "code",
   "execution_count": 56,
   "metadata": {
    "collapsed": true
   },
   "outputs": [],
   "source": [
    "import json\n",
    "import math"
   ]
  },
  {
   "cell_type": "code",
   "execution_count": 57,
   "metadata": {
    "collapsed": false
   },
   "outputs": [],
   "source": [
    "class createJsonFiles():\n",
    "    \n",
    "    # both parametrised and unparametrised constructor\n",
    "    def __init__(self, file_num, increment, filename):\n",
    "        \n",
    "        self.file_num = file_num # instance attribute for the \"parametrised constructor\"\n",
    "        self.increment = increment # instance attribute for the \"parametrised constructor\"\n",
    "        self.filename = filename # instance attribute for the \"parametrised constructor\"\n",
    "        self.start_index = (file_num-1)*increment # instance attribute for the unparametrised constructor\n",
    "        self.end_index = increment*file_num # instance attribute for the unparametrised constructor\n",
    "        self.file_out = \"kindle_\" + str(file_num) # instance attribute for the unparametrised constructor\n",
    "        self.data = [] # initialising a list; this is instance attribute for the unparametrised constructor\n",
    "        self.counter = 0 # initialising the value for the counter\n",
    "        \n",
    "        \n",
    "    def load_file(self):\n",
    "        \n",
    "        with open(self.filename, 'rb') as f:\n",
    "            for line in f:\n",
    "                if self.counter in range(self.start_index, self.end_index):    # range is [)         \n",
    "                    self.data.append(json.loads(line))           \n",
    "                self.counter +=1\n",
    "                \n",
    "        return self.data\n",
    "    \n",
    "    \n",
    "    def clean_kindle(self):\n",
    "        # nested list comprehension with conditional nested dictionary comprehension\n",
    "        self.data = [{outer_k: ({inner_k.replace(':', ''):inner_v for inner_k, inner_v in outer_v.items()} if type(outer_v) == dict else outer_v)\\\n",
    "                    for outer_k, outer_v in d.items()} for d in self.data]\n",
    "        \n",
    "        return self.data\n",
    "    \n",
    "    def clean_meta_kindle(self):\n",
    "        # nested list comprehension with conditional nested dictionary comprehension\n",
    "        self.data = [{outer_k: ({inner_k.replace(':', ''):inner_v for inner_k, inner_v in outer_v.items()} if type(outer_v) == dict else outer_v)\\\n",
    "                for outer_k, outer_v in d.items()} for d in self.data]\n",
    "        \n",
    "        # nested list comprehension with conditional nested dictionary comprehension\n",
    "        self.data = [{outer_k: ({inner_k.replace(' ', '_'):inner_v for inner_k, inner_v in outer_v.items()} if type(outer_v) == dict else outer_v)\\\n",
    "                    for outer_k, outer_v in d.items()} for d in self.data]\n",
    "        \n",
    "        # nested list comprehension with conditional nested dictionary comprehension\n",
    "        self.data = [{outer_k: ({inner_k.replace('-', '_'):inner_v for inner_k, inner_v in outer_v.items()} if type(outer_v) == dict else outer_v)\\\n",
    "                    for outer_k, outer_v in d.items()} for d in self.data]\n",
    "        \n",
    "        # dict comprehension, unify rank type\n",
    "        self.data = [{outer_k: ([outer_v] if outer_k == \"rank\" and type(outer_v)!=list else outer_v)\\\n",
    "                    for outer_k, outer_v in d.items()} for d in self.data]\n",
    "        \n",
    "        return self.data\n",
    "    \n",
    "    \n",
    "    def save_file(self):\n",
    "        \n",
    "        with open(self.file_out+\".json\", \"w\") as outfile:\n",
    "            print('Saving...{}'.format(self.file_out))\n",
    "            for i in range(0, len(self.data)):\n",
    "                json.dump(self.data[i], outfile)\n",
    "                if i != len(self.data)-1:\n",
    "                    outfile.write('\\n')\n",
    "            print(\"Finished!\")\n",
    "        "
   ]
  },
  {
   "cell_type": "code",
   "execution_count": 58,
   "metadata": {
    "collapsed": true
   },
   "outputs": [],
   "source": [
    "def calc_max_filenum(filename, increment):\n",
    "    counter = 0\n",
    "    with open(filename, 'rb') as f:\n",
    "        for line in f:          \n",
    "            counter +=1\n",
    "        \n",
    "    return math.ceil(counter/increment)"
   ]
  },
  {
   "cell_type": "code",
   "execution_count": null,
   "metadata": {
    "collapsed": true
   },
   "outputs": [],
   "source": [
    "def generate_kindle(increment, filename):\n",
    "    \n",
    "    max_file_num = calc_max_filenum(increment = increment, filename = filename)\n",
    "    \n",
    "    for index in range(1, max_file_num+1):\n",
    "        \n",
    "        obj = createJsonFiles(file_num = index, increment = increment, filename = filename)\n",
    "        data = obj.load_file()\n",
    "        data = obj.clean_kindle()\n",
    "        data = obj.save_file()"
   ]
  },
  {
   "cell_type": "code",
   "execution_count": null,
   "metadata": {
    "collapsed": true
   },
   "outputs": [],
   "source": [
    "def generate_meta_kindle(increment, filename):\n",
    "    \n",
    "    max_file_num = calc_max_filenum(increment = increment, filename = filename)\n",
    "    \n",
    "    for index in range(1, max_file_num+1):\n",
    "        \n",
    "        obj = createJsonFiles(file_num = index, increment = increment, filename = filename)\n",
    "        data = obj.load_file()\n",
    "        data = obj.clean_meta_kindle()\n",
    "        data = obj.save_file()"
   ]
  },
  {
   "cell_type": "code",
   "execution_count": 59,
   "metadata": {
    "collapsed": true
   },
   "outputs": [],
   "source": [
    "######### KINDLE"
   ]
  },
  {
   "cell_type": "code",
   "execution_count": 61,
   "metadata": {
    "collapsed": true
   },
   "outputs": [],
   "source": [
    "filename = 'Kindle_Store.json'\n",
    "increment = 200000"
   ]
  },
  {
   "cell_type": "code",
   "execution_count": 72,
   "metadata": {
    "collapsed": false
   },
   "outputs": [
    {
     "name": "stdout",
     "output_type": "stream",
     "text": [
      "Saving...kindle_1\n",
      "Finished!\n",
      "Saving...kindle_2\n",
      "Finished!\n",
      "Saving...kindle_3\n",
      "Finished!\n",
      "Saving...kindle_4\n",
      "Finished!\n",
      "Saving...kindle_5\n",
      "Finished!\n",
      "Saving...kindle_6\n",
      "Finished!\n",
      "Saving...kindle_7\n",
      "Finished!\n",
      "Saving...kindle_8\n",
      "Finished!\n",
      "Saving...kindle_9\n",
      "Finished!\n",
      "Saving...kindle_10\n",
      "Finished!\n",
      "Saving...kindle_11\n",
      "Finished!\n",
      "Saving...kindle_12\n",
      "Finished!\n",
      "Saving...kindle_13\n",
      "Finished!\n",
      "Saving...kindle_14\n",
      "Finished!\n",
      "Saving...kindle_15\n",
      "Finished!\n",
      "Saving...kindle_16\n",
      "Finished!\n",
      "Saving...kindle_17\n",
      "Finished!\n",
      "Saving...kindle_18\n",
      "Finished!\n",
      "Saving...kindle_19\n",
      "Finished!\n",
      "Saving...kindle_20\n",
      "Finished!\n",
      "Saving...kindle_21\n",
      "Finished!\n",
      "Saving...kindle_22\n",
      "Finished!\n",
      "Saving...kindle_23\n",
      "Finished!\n",
      "Saving...kindle_24\n",
      "Finished!\n",
      "Saving...kindle_25\n",
      "Finished!\n",
      "Saving...kindle_26\n",
      "Finished!\n",
      "Saving...kindle_27\n",
      "Finished!\n",
      "Saving...kindle_28\n",
      "Finished!\n",
      "Saving...kindle_29\n",
      "Finished!\n"
     ]
    }
   ],
   "source": [
    "generate_kindle(increment = increment, filename = filename)"
   ]
  },
  {
   "cell_type": "code",
   "execution_count": null,
   "metadata": {
    "collapsed": true
   },
   "outputs": [],
   "source": [
    "########### META KINDLE STORE"
   ]
  },
  {
   "cell_type": "code",
   "execution_count": 73,
   "metadata": {
    "collapsed": true
   },
   "outputs": [],
   "source": [
    "filename = 'meta_Kindle_Store.json'\n",
    "increment = 100000"
   ]
  },
  {
   "cell_type": "code",
   "execution_count": 76,
   "metadata": {
    "collapsed": false
   },
   "outputs": [
    {
     "name": "stdout",
     "output_type": "stream",
     "text": [
      "Saving...kindle_1\n",
      "Finished!\n",
      "Saving...kindle_2\n",
      "Finished!\n",
      "Saving...kindle_3\n",
      "Finished!\n",
      "Saving...kindle_4\n",
      "Finished!\n",
      "Saving...kindle_5\n",
      "Finished!\n"
     ]
    }
   ],
   "source": [
    "generate_meta_kindle(increment = increment, filename = filename)"
   ]
  }
 ],
 "metadata": {
  "kernelspec": {
   "display_name": "Python 3",
   "language": "python",
   "name": "python3"
  },
  "language_info": {
   "codemirror_mode": {
    "name": "ipython",
    "version": 3
   },
   "file_extension": ".py",
   "mimetype": "text/x-python",
   "name": "python",
   "nbconvert_exporter": "python",
   "pygments_lexer": "ipython3",
   "version": "3.6.6"
  }
 },
 "nbformat": 4,
 "nbformat_minor": 2
}
